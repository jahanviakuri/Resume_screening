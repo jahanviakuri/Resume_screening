{
  "cells": [
    {
      "cell_type": "markdown",
      "metadata": {
        "id": "view-in-github",
        "colab_type": "text"
      },
      "source": [
        "<a href=\"https://colab.research.google.com/github/jahanviakuri/Resume_screening/blob/main/Assignment4_(3).ipynb\" target=\"_parent\"><img src=\"https://colab.research.google.com/assets/colab-badge.svg\" alt=\"Open In Colab\"/></a>"
      ]
    },
    {
      "cell_type": "markdown",
      "id": "efe13d69",
      "metadata": {
        "id": "efe13d69"
      },
      "source": [
        "# Assignment 4: Neural Networks (30 marks)\n",
        "### Due date: March 31 at 11:59pm\n",
        "*Author: YOUR NAME*\n",
        "\n",
        "For this assignment, you will be practicing using scikit-learn and TensorFlow to implement basic neural networks (MLP). You can use the given dataset below, or you can use the dataset you have selected for your project.\n",
        "\n",
        "**Note: If you use the dataset from your project - this assignment is meant to be completed individually. You may work with your group members to complete this assignment, but the work you submit must be your own. Submitting identical assignments is a form of academic misconduct**"
      ]
    },
    {
      "cell_type": "code",
      "execution_count": null,
      "id": "69e955bf",
      "metadata": {
        "id": "69e955bf"
      },
      "outputs": [],
      "source": [
        "import numpy as np\n",
        "import pandas as pd"
      ]
    },
    {
      "cell_type": "markdown",
      "id": "0f155621",
      "metadata": {
        "id": "0f155621"
      },
      "source": [
        "## Part 1: Load your dataset (1 mark)"
      ]
    },
    {
      "cell_type": "markdown",
      "id": "eb31fa4e",
      "metadata": {
        "id": "eb31fa4e"
      },
      "source": [
        "As stated above, you can use the dataset from your project. If you want to practice neural networks with a different dataset, you can use the energy dataset from Yellowbrick (https://www.scikit-yb.org/en/latest/api/datasets/energy.html)"
      ]
    },
    {
      "cell_type": "code",
      "source": [
        "!pip install yellowbrick"
      ],
      "metadata": {
        "colab": {
          "base_uri": "https://localhost:8080/"
        },
        "id": "jNp2fIzBsmEN",
        "outputId": "1e55fa89-aeec-4841-db60-b7cfa1767eb4"
      },
      "id": "jNp2fIzBsmEN",
      "execution_count": null,
      "outputs": [
        {
          "output_type": "stream",
          "name": "stdout",
          "text": [
            "Looking in indexes: https://pypi.org/simple, https://us-python.pkg.dev/colab-wheels/public/simple/\n",
            "Requirement already satisfied: yellowbrick in /usr/local/lib/python3.9/dist-packages (1.5)\n",
            "Requirement already satisfied: scikit-learn>=1.0.0 in /usr/local/lib/python3.9/dist-packages (from yellowbrick) (1.2.2)\n",
            "Requirement already satisfied: numpy>=1.16.0 in /usr/local/lib/python3.9/dist-packages (from yellowbrick) (1.22.4)\n",
            "Requirement already satisfied: scipy>=1.0.0 in /usr/local/lib/python3.9/dist-packages (from yellowbrick) (1.10.1)\n",
            "Requirement already satisfied: matplotlib!=3.0.0,>=2.0.2 in /usr/local/lib/python3.9/dist-packages (from yellowbrick) (3.7.1)\n",
            "Requirement already satisfied: cycler>=0.10.0 in /usr/local/lib/python3.9/dist-packages (from yellowbrick) (0.11.0)\n",
            "Requirement already satisfied: pillow>=6.2.0 in /usr/local/lib/python3.9/dist-packages (from matplotlib!=3.0.0,>=2.0.2->yellowbrick) (8.4.0)\n",
            "Requirement already satisfied: contourpy>=1.0.1 in /usr/local/lib/python3.9/dist-packages (from matplotlib!=3.0.0,>=2.0.2->yellowbrick) (1.0.7)\n",
            "Requirement already satisfied: python-dateutil>=2.7 in /usr/local/lib/python3.9/dist-packages (from matplotlib!=3.0.0,>=2.0.2->yellowbrick) (2.8.2)\n",
            "Requirement already satisfied: kiwisolver>=1.0.1 in /usr/local/lib/python3.9/dist-packages (from matplotlib!=3.0.0,>=2.0.2->yellowbrick) (1.4.4)\n",
            "Requirement already satisfied: fonttools>=4.22.0 in /usr/local/lib/python3.9/dist-packages (from matplotlib!=3.0.0,>=2.0.2->yellowbrick) (4.39.2)\n",
            "Requirement already satisfied: pyparsing>=2.3.1 in /usr/local/lib/python3.9/dist-packages (from matplotlib!=3.0.0,>=2.0.2->yellowbrick) (3.0.9)\n",
            "Requirement already satisfied: packaging>=20.0 in /usr/local/lib/python3.9/dist-packages (from matplotlib!=3.0.0,>=2.0.2->yellowbrick) (23.0)\n",
            "Requirement already satisfied: importlib-resources>=3.2.0 in /usr/local/lib/python3.9/dist-packages (from matplotlib!=3.0.0,>=2.0.2->yellowbrick) (5.12.0)\n",
            "Requirement already satisfied: threadpoolctl>=2.0.0 in /usr/local/lib/python3.9/dist-packages (from scikit-learn>=1.0.0->yellowbrick) (3.1.0)\n",
            "Requirement already satisfied: joblib>=1.1.1 in /usr/local/lib/python3.9/dist-packages (from scikit-learn>=1.0.0->yellowbrick) (1.1.1)\n",
            "Requirement already satisfied: zipp>=3.1.0 in /usr/local/lib/python3.9/dist-packages (from importlib-resources>=3.2.0->matplotlib!=3.0.0,>=2.0.2->yellowbrick) (3.15.0)\n",
            "Requirement already satisfied: six>=1.5 in /usr/local/lib/python3.9/dist-packages (from python-dateutil>=2.7->matplotlib!=3.0.0,>=2.0.2->yellowbrick) (1.16.0)\n"
          ]
        }
      ]
    },
    {
      "cell_type": "code",
      "execution_count": null,
      "id": "a115228d",
      "metadata": {
        "id": "a115228d"
      },
      "outputs": [],
      "source": [
        "# Load dataset\n",
        "\n",
        "from yellowbrick.datasets import load_energy\n",
        "from sklearn.ensemble import RandomForestRegressor\n",
        "from sklearn.model_selection import train_test_split\n",
        "df = pd.read_excel('ENB2012_data.xlsx')\n",
        "df.columns=[\"relative compactness\",\"surface area\",\"wall area\",\"roof area\",\"overall height\",\"orientation\",\"glazing area\",\"glazing area distribution\",\"heating load\", \"cooling load\"]\n",
        "\n"
      ]
    },
    {
      "cell_type": "markdown",
      "id": "f99a3675",
      "metadata": {
        "id": "f99a3675"
      },
      "source": [
        "## Part 2: Process your dataset (5 marks)"
      ]
    },
    {
      "cell_type": "code",
      "source": [
        "from sklearn.preprocessing import StandardScaler\n",
        "from sklearn.metrics import mean_absolute_error"
      ],
      "metadata": {
        "id": "S0cHlW5wEgCX"
      },
      "id": "S0cHlW5wEgCX",
      "execution_count": null,
      "outputs": []
    },
    {
      "cell_type": "code",
      "execution_count": null,
      "id": "2d817a92",
      "metadata": {
        "colab": {
          "base_uri": "https://localhost:8080/"
        },
        "id": "2d817a92",
        "outputId": "47f6c802-973d-4f84-f73e-d8b26001d4fa"
      },
      "outputs": [
        {
          "output_type": "stream",
          "name": "stdout",
          "text": [
            "relative compactness         0\n",
            "surface area                 0\n",
            "wall area                    0\n",
            "roof area                    0\n",
            "overall height               0\n",
            "orientation                  0\n",
            "glazing area                 0\n",
            "glazing area distribution    0\n",
            "heating load                 0\n",
            "cooling load                 0\n",
            "dtype: int64\n"
          ]
        }
      ],
      "source": [
        "# Check if there are any missing values - if yes, decide how to fill them\n",
        "\n",
        "print(df.isnull().sum())"
      ]
    },
    {
      "cell_type": "code",
      "execution_count": null,
      "id": "ac664776",
      "metadata": {
        "colab": {
          "base_uri": "https://localhost:8080/"
        },
        "id": "ac664776",
        "outputId": "e44bec57-459d-4fb8-a8fe-215455f9fb4d"
      },
      "outputs": [
        {
          "output_type": "stream",
          "name": "stdout",
          "text": [
            "     relative compactness  surface area  wall area  roof area  overall height  \\\n",
            "min                  0.62         514.5      245.0     110.25             3.5   \n",
            "max                  0.98         808.5      416.5     220.50             7.0   \n",
            "\n",
            "     orientation  glazing area  glazing area distribution  heating load  \\\n",
            "min          2.0           0.0                        0.0          6.01   \n",
            "max          5.0           0.4                        5.0         43.10   \n",
            "\n",
            "     cooling load  \n",
            "min         10.90  \n",
            "max         48.03  \n"
          ]
        }
      ],
      "source": [
        "# Check the range of each feature - do you need to scale your data?\n",
        "range=df.describe().loc[['min','max']]\n",
        "print(range)"
      ]
    },
    {
      "cell_type": "code",
      "execution_count": null,
      "id": "35723631",
      "metadata": {
        "colab": {
          "base_uri": "https://localhost:8080/"
        },
        "id": "35723631",
        "outputId": "fb6b7beb-c6ac-4bd3-f2e3-8f7ee677eea2"
      },
      "outputs": [
        {
          "output_type": "execute_result",
          "data": {
            "text/plain": [
              "(768, 2)"
            ]
          },
          "metadata": {},
          "execution_count": 7
        }
      ],
      "source": [
        "# Split your data into training and testing datasets (select random_state=0 and use default test_size)\n",
        "\n",
        "features = [\n",
        "   \"relative compactness\",\n",
        "   \"surface area\",\n",
        "   \"wall area\",\n",
        "   \"roof area\",\n",
        "   \"overall height\",\n",
        "   \"orientation\",\n",
        "   \"glazing area\",\n",
        "   \"glazing area distribution\"\n",
        "]\n",
        "target = [\"heating load\", \"cooling load\"]\n",
        "\n",
        "X, y = df[features], df[target]\n",
        "\n",
        "X.shape\n",
        "y.shape"
      ]
    },
    {
      "cell_type": "code",
      "source": [
        "X_train, X_test, y_train, y_test = train_test_split(X, y, test_size=0.2, random_state=42)"
      ],
      "metadata": {
        "id": "3jq7EazIFISB"
      },
      "id": "3jq7EazIFISB",
      "execution_count": null,
      "outputs": []
    },
    {
      "cell_type": "code",
      "execution_count": null,
      "id": "7b91d54b",
      "metadata": {
        "id": "7b91d54b"
      },
      "outputs": [],
      "source": [
        "# Implement scaling and/or encoding here if needed (2 marks for preprocessing properly or justifying why it isn't needed)\n",
        "\n",
        "\n",
        "scaler = StandardScaler()\n",
        "X_train = scaler.fit_transform(X_train)\n",
        "X_test = scaler.transform(X_test)"
      ]
    },
    {
      "cell_type": "markdown",
      "source": [
        "For energy efficiency database, all the features are numerical and measured on similar scales so scaling is not that  necessary \n",
        "\n",
        "Only the columns  'orientation' and 'glazing area distribution' have categorial values,but these are already encoded numerically so no need of encoding "
      ],
      "metadata": {
        "id": "-diU7FrpzOIN"
      },
      "id": "-diU7FrpzOIN"
    },
    {
      "cell_type": "markdown",
      "id": "e00a4613",
      "metadata": {
        "id": "e00a4613"
      },
      "source": [
        "## Part 4: Implement MLP using scikit-learn (5 marks)"
      ]
    },
    {
      "cell_type": "code",
      "source": [
        "from sklearn.neural_network import MLPRegressor\n",
        "from sklearn.model_selection import train_test_split\n",
        "\n",
        "from sklearn.metrics import mean_absolute_error\n"
      ],
      "metadata": {
        "id": "LuFkg0md1Oxi"
      },
      "id": "LuFkg0md1Oxi",
      "execution_count": null,
      "outputs": []
    },
    {
      "cell_type": "code",
      "execution_count": null,
      "id": "1e43c1ed",
      "metadata": {
        "colab": {
          "base_uri": "https://localhost:8080/",
          "height": 131
        },
        "id": "1e43c1ed",
        "outputId": "a99369e4-b3c5-4775-c026-dba5893e6930"
      },
      "outputs": [
        {
          "output_type": "stream",
          "name": "stderr",
          "text": [
            "/usr/local/lib/python3.9/dist-packages/sklearn/neural_network/_multilayer_perceptron.py:686: ConvergenceWarning: Stochastic Optimizer: Maximum iterations (500) reached and the optimization hasn't converged yet.\n",
            "  warnings.warn(\n"
          ]
        },
        {
          "output_type": "execute_result",
          "data": {
            "text/plain": [
              "MLPRegressor(alpha=0.001, max_iter=500)"
            ],
            "text/html": [
              "<style>#sk-container-id-1 {color: black;background-color: white;}#sk-container-id-1 pre{padding: 0;}#sk-container-id-1 div.sk-toggleable {background-color: white;}#sk-container-id-1 label.sk-toggleable__label {cursor: pointer;display: block;width: 100%;margin-bottom: 0;padding: 0.3em;box-sizing: border-box;text-align: center;}#sk-container-id-1 label.sk-toggleable__label-arrow:before {content: \"▸\";float: left;margin-right: 0.25em;color: #696969;}#sk-container-id-1 label.sk-toggleable__label-arrow:hover:before {color: black;}#sk-container-id-1 div.sk-estimator:hover label.sk-toggleable__label-arrow:before {color: black;}#sk-container-id-1 div.sk-toggleable__content {max-height: 0;max-width: 0;overflow: hidden;text-align: left;background-color: #f0f8ff;}#sk-container-id-1 div.sk-toggleable__content pre {margin: 0.2em;color: black;border-radius: 0.25em;background-color: #f0f8ff;}#sk-container-id-1 input.sk-toggleable__control:checked~div.sk-toggleable__content {max-height: 200px;max-width: 100%;overflow: auto;}#sk-container-id-1 input.sk-toggleable__control:checked~label.sk-toggleable__label-arrow:before {content: \"▾\";}#sk-container-id-1 div.sk-estimator input.sk-toggleable__control:checked~label.sk-toggleable__label {background-color: #d4ebff;}#sk-container-id-1 div.sk-label input.sk-toggleable__control:checked~label.sk-toggleable__label {background-color: #d4ebff;}#sk-container-id-1 input.sk-hidden--visually {border: 0;clip: rect(1px 1px 1px 1px);clip: rect(1px, 1px, 1px, 1px);height: 1px;margin: -1px;overflow: hidden;padding: 0;position: absolute;width: 1px;}#sk-container-id-1 div.sk-estimator {font-family: monospace;background-color: #f0f8ff;border: 1px dotted black;border-radius: 0.25em;box-sizing: border-box;margin-bottom: 0.5em;}#sk-container-id-1 div.sk-estimator:hover {background-color: #d4ebff;}#sk-container-id-1 div.sk-parallel-item::after {content: \"\";width: 100%;border-bottom: 1px solid gray;flex-grow: 1;}#sk-container-id-1 div.sk-label:hover label.sk-toggleable__label {background-color: #d4ebff;}#sk-container-id-1 div.sk-serial::before {content: \"\";position: absolute;border-left: 1px solid gray;box-sizing: border-box;top: 0;bottom: 0;left: 50%;z-index: 0;}#sk-container-id-1 div.sk-serial {display: flex;flex-direction: column;align-items: center;background-color: white;padding-right: 0.2em;padding-left: 0.2em;position: relative;}#sk-container-id-1 div.sk-item {position: relative;z-index: 1;}#sk-container-id-1 div.sk-parallel {display: flex;align-items: stretch;justify-content: center;background-color: white;position: relative;}#sk-container-id-1 div.sk-item::before, #sk-container-id-1 div.sk-parallel-item::before {content: \"\";position: absolute;border-left: 1px solid gray;box-sizing: border-box;top: 0;bottom: 0;left: 50%;z-index: -1;}#sk-container-id-1 div.sk-parallel-item {display: flex;flex-direction: column;z-index: 1;position: relative;background-color: white;}#sk-container-id-1 div.sk-parallel-item:first-child::after {align-self: flex-end;width: 50%;}#sk-container-id-1 div.sk-parallel-item:last-child::after {align-self: flex-start;width: 50%;}#sk-container-id-1 div.sk-parallel-item:only-child::after {width: 0;}#sk-container-id-1 div.sk-dashed-wrapped {border: 1px dashed gray;margin: 0 0.4em 0.5em 0.4em;box-sizing: border-box;padding-bottom: 0.4em;background-color: white;}#sk-container-id-1 div.sk-label label {font-family: monospace;font-weight: bold;display: inline-block;line-height: 1.2em;}#sk-container-id-1 div.sk-label-container {text-align: center;}#sk-container-id-1 div.sk-container {/* jupyter's `normalize.less` sets `[hidden] { display: none; }` but bootstrap.min.css set `[hidden] { display: none !important; }` so we also need the `!important` here to be able to override the default hidden behavior on the sphinx rendered scikit-learn.org. See: https://github.com/scikit-learn/scikit-learn/issues/21755 */display: inline-block !important;position: relative;}#sk-container-id-1 div.sk-text-repr-fallback {display: none;}</style><div id=\"sk-container-id-1\" class=\"sk-top-container\"><div class=\"sk-text-repr-fallback\"><pre>MLPRegressor(alpha=0.001, max_iter=500)</pre><b>In a Jupyter environment, please rerun this cell to show the HTML representation or trust the notebook. <br />On GitHub, the HTML representation is unable to render, please try loading this page with nbviewer.org.</b></div><div class=\"sk-container\" hidden><div class=\"sk-item\"><div class=\"sk-estimator sk-toggleable\"><input class=\"sk-toggleable__control sk-hidden--visually\" id=\"sk-estimator-id-1\" type=\"checkbox\" checked><label for=\"sk-estimator-id-1\" class=\"sk-toggleable__label sk-toggleable__label-arrow\">MLPRegressor</label><div class=\"sk-toggleable__content\"><pre>MLPRegressor(alpha=0.001, max_iter=500)</pre></div></div></div></div></div>"
            ]
          },
          "metadata": {},
          "execution_count": 11
        }
      ],
      "source": [
        "# Test using default parameters (set max_iter=500 - for this assignment, don't worry about reaching convergence)\n",
        "\n",
        "\n",
        "mlp1 = MLPRegressor(hidden_layer_sizes=(100,), activation='relu', solver='adam',alpha=0.001, max_iter=500, random_state=None)\n",
        "mlp1.fit(X_train, y_train)\n"
      ]
    },
    {
      "cell_type": "code",
      "execution_count": null,
      "id": "5b0e1272",
      "metadata": {
        "colab": {
          "base_uri": "https://localhost:8080/",
          "height": 131
        },
        "id": "5b0e1272",
        "outputId": "de756dbb-70e1-46a0-d416-5d88ac839001"
      },
      "outputs": [
        {
          "output_type": "stream",
          "name": "stderr",
          "text": [
            "/usr/local/lib/python3.9/dist-packages/sklearn/neural_network/_multilayer_perceptron.py:686: ConvergenceWarning: Stochastic Optimizer: Maximum iterations (500) reached and the optimization hasn't converged yet.\n",
            "  warnings.warn(\n"
          ]
        },
        {
          "output_type": "execute_result",
          "data": {
            "text/plain": [
              "MLPRegressor(hidden_layer_sizes=(100, 100), max_iter=500)"
            ],
            "text/html": [
              "<style>#sk-container-id-2 {color: black;background-color: white;}#sk-container-id-2 pre{padding: 0;}#sk-container-id-2 div.sk-toggleable {background-color: white;}#sk-container-id-2 label.sk-toggleable__label {cursor: pointer;display: block;width: 100%;margin-bottom: 0;padding: 0.3em;box-sizing: border-box;text-align: center;}#sk-container-id-2 label.sk-toggleable__label-arrow:before {content: \"▸\";float: left;margin-right: 0.25em;color: #696969;}#sk-container-id-2 label.sk-toggleable__label-arrow:hover:before {color: black;}#sk-container-id-2 div.sk-estimator:hover label.sk-toggleable__label-arrow:before {color: black;}#sk-container-id-2 div.sk-toggleable__content {max-height: 0;max-width: 0;overflow: hidden;text-align: left;background-color: #f0f8ff;}#sk-container-id-2 div.sk-toggleable__content pre {margin: 0.2em;color: black;border-radius: 0.25em;background-color: #f0f8ff;}#sk-container-id-2 input.sk-toggleable__control:checked~div.sk-toggleable__content {max-height: 200px;max-width: 100%;overflow: auto;}#sk-container-id-2 input.sk-toggleable__control:checked~label.sk-toggleable__label-arrow:before {content: \"▾\";}#sk-container-id-2 div.sk-estimator input.sk-toggleable__control:checked~label.sk-toggleable__label {background-color: #d4ebff;}#sk-container-id-2 div.sk-label input.sk-toggleable__control:checked~label.sk-toggleable__label {background-color: #d4ebff;}#sk-container-id-2 input.sk-hidden--visually {border: 0;clip: rect(1px 1px 1px 1px);clip: rect(1px, 1px, 1px, 1px);height: 1px;margin: -1px;overflow: hidden;padding: 0;position: absolute;width: 1px;}#sk-container-id-2 div.sk-estimator {font-family: monospace;background-color: #f0f8ff;border: 1px dotted black;border-radius: 0.25em;box-sizing: border-box;margin-bottom: 0.5em;}#sk-container-id-2 div.sk-estimator:hover {background-color: #d4ebff;}#sk-container-id-2 div.sk-parallel-item::after {content: \"\";width: 100%;border-bottom: 1px solid gray;flex-grow: 1;}#sk-container-id-2 div.sk-label:hover label.sk-toggleable__label {background-color: #d4ebff;}#sk-container-id-2 div.sk-serial::before {content: \"\";position: absolute;border-left: 1px solid gray;box-sizing: border-box;top: 0;bottom: 0;left: 50%;z-index: 0;}#sk-container-id-2 div.sk-serial {display: flex;flex-direction: column;align-items: center;background-color: white;padding-right: 0.2em;padding-left: 0.2em;position: relative;}#sk-container-id-2 div.sk-item {position: relative;z-index: 1;}#sk-container-id-2 div.sk-parallel {display: flex;align-items: stretch;justify-content: center;background-color: white;position: relative;}#sk-container-id-2 div.sk-item::before, #sk-container-id-2 div.sk-parallel-item::before {content: \"\";position: absolute;border-left: 1px solid gray;box-sizing: border-box;top: 0;bottom: 0;left: 50%;z-index: -1;}#sk-container-id-2 div.sk-parallel-item {display: flex;flex-direction: column;z-index: 1;position: relative;background-color: white;}#sk-container-id-2 div.sk-parallel-item:first-child::after {align-self: flex-end;width: 50%;}#sk-container-id-2 div.sk-parallel-item:last-child::after {align-self: flex-start;width: 50%;}#sk-container-id-2 div.sk-parallel-item:only-child::after {width: 0;}#sk-container-id-2 div.sk-dashed-wrapped {border: 1px dashed gray;margin: 0 0.4em 0.5em 0.4em;box-sizing: border-box;padding-bottom: 0.4em;background-color: white;}#sk-container-id-2 div.sk-label label {font-family: monospace;font-weight: bold;display: inline-block;line-height: 1.2em;}#sk-container-id-2 div.sk-label-container {text-align: center;}#sk-container-id-2 div.sk-container {/* jupyter's `normalize.less` sets `[hidden] { display: none; }` but bootstrap.min.css set `[hidden] { display: none !important; }` so we also need the `!important` here to be able to override the default hidden behavior on the sphinx rendered scikit-learn.org. See: https://github.com/scikit-learn/scikit-learn/issues/21755 */display: inline-block !important;position: relative;}#sk-container-id-2 div.sk-text-repr-fallback {display: none;}</style><div id=\"sk-container-id-2\" class=\"sk-top-container\"><div class=\"sk-text-repr-fallback\"><pre>MLPRegressor(hidden_layer_sizes=(100, 100), max_iter=500)</pre><b>In a Jupyter environment, please rerun this cell to show the HTML representation or trust the notebook. <br />On GitHub, the HTML representation is unable to render, please try loading this page with nbviewer.org.</b></div><div class=\"sk-container\" hidden><div class=\"sk-item\"><div class=\"sk-estimator sk-toggleable\"><input class=\"sk-toggleable__control sk-hidden--visually\" id=\"sk-estimator-id-2\" type=\"checkbox\" checked><label for=\"sk-estimator-id-2\" class=\"sk-toggleable__label sk-toggleable__label-arrow\">MLPRegressor</label><div class=\"sk-toggleable__content\"><pre>MLPRegressor(hidden_layer_sizes=(100, 100), max_iter=500)</pre></div></div></div></div></div>"
            ]
          },
          "metadata": {},
          "execution_count": 12
        }
      ],
      "source": [
        "# Test using two hidden layers with 100 nodes each\n",
        "\n",
        "mlp2 = MLPRegressor(hidden_layer_sizes=(100,100), activation='relu', solver='adam', max_iter=500, random_state=None)\n",
        "mlp2.fit(X_train, y_train)\n"
      ]
    },
    {
      "cell_type": "code",
      "execution_count": null,
      "id": "5909134e",
      "metadata": {
        "colab": {
          "base_uri": "https://localhost:8080/",
          "height": 74
        },
        "id": "5909134e",
        "outputId": "c0646c2a-0a6d-4eb1-fd16-ed4ac148f253"
      },
      "outputs": [
        {
          "output_type": "execute_result",
          "data": {
            "text/plain": [
              "MLPRegressor(hidden_layer_sizes=(100, 100, 100), max_iter=500)"
            ],
            "text/html": [
              "<style>#sk-container-id-4 {color: black;background-color: white;}#sk-container-id-4 pre{padding: 0;}#sk-container-id-4 div.sk-toggleable {background-color: white;}#sk-container-id-4 label.sk-toggleable__label {cursor: pointer;display: block;width: 100%;margin-bottom: 0;padding: 0.3em;box-sizing: border-box;text-align: center;}#sk-container-id-4 label.sk-toggleable__label-arrow:before {content: \"▸\";float: left;margin-right: 0.25em;color: #696969;}#sk-container-id-4 label.sk-toggleable__label-arrow:hover:before {color: black;}#sk-container-id-4 div.sk-estimator:hover label.sk-toggleable__label-arrow:before {color: black;}#sk-container-id-4 div.sk-toggleable__content {max-height: 0;max-width: 0;overflow: hidden;text-align: left;background-color: #f0f8ff;}#sk-container-id-4 div.sk-toggleable__content pre {margin: 0.2em;color: black;border-radius: 0.25em;background-color: #f0f8ff;}#sk-container-id-4 input.sk-toggleable__control:checked~div.sk-toggleable__content {max-height: 200px;max-width: 100%;overflow: auto;}#sk-container-id-4 input.sk-toggleable__control:checked~label.sk-toggleable__label-arrow:before {content: \"▾\";}#sk-container-id-4 div.sk-estimator input.sk-toggleable__control:checked~label.sk-toggleable__label {background-color: #d4ebff;}#sk-container-id-4 div.sk-label input.sk-toggleable__control:checked~label.sk-toggleable__label {background-color: #d4ebff;}#sk-container-id-4 input.sk-hidden--visually {border: 0;clip: rect(1px 1px 1px 1px);clip: rect(1px, 1px, 1px, 1px);height: 1px;margin: -1px;overflow: hidden;padding: 0;position: absolute;width: 1px;}#sk-container-id-4 div.sk-estimator {font-family: monospace;background-color: #f0f8ff;border: 1px dotted black;border-radius: 0.25em;box-sizing: border-box;margin-bottom: 0.5em;}#sk-container-id-4 div.sk-estimator:hover {background-color: #d4ebff;}#sk-container-id-4 div.sk-parallel-item::after {content: \"\";width: 100%;border-bottom: 1px solid gray;flex-grow: 1;}#sk-container-id-4 div.sk-label:hover label.sk-toggleable__label {background-color: #d4ebff;}#sk-container-id-4 div.sk-serial::before {content: \"\";position: absolute;border-left: 1px solid gray;box-sizing: border-box;top: 0;bottom: 0;left: 50%;z-index: 0;}#sk-container-id-4 div.sk-serial {display: flex;flex-direction: column;align-items: center;background-color: white;padding-right: 0.2em;padding-left: 0.2em;position: relative;}#sk-container-id-4 div.sk-item {position: relative;z-index: 1;}#sk-container-id-4 div.sk-parallel {display: flex;align-items: stretch;justify-content: center;background-color: white;position: relative;}#sk-container-id-4 div.sk-item::before, #sk-container-id-4 div.sk-parallel-item::before {content: \"\";position: absolute;border-left: 1px solid gray;box-sizing: border-box;top: 0;bottom: 0;left: 50%;z-index: -1;}#sk-container-id-4 div.sk-parallel-item {display: flex;flex-direction: column;z-index: 1;position: relative;background-color: white;}#sk-container-id-4 div.sk-parallel-item:first-child::after {align-self: flex-end;width: 50%;}#sk-container-id-4 div.sk-parallel-item:last-child::after {align-self: flex-start;width: 50%;}#sk-container-id-4 div.sk-parallel-item:only-child::after {width: 0;}#sk-container-id-4 div.sk-dashed-wrapped {border: 1px dashed gray;margin: 0 0.4em 0.5em 0.4em;box-sizing: border-box;padding-bottom: 0.4em;background-color: white;}#sk-container-id-4 div.sk-label label {font-family: monospace;font-weight: bold;display: inline-block;line-height: 1.2em;}#sk-container-id-4 div.sk-label-container {text-align: center;}#sk-container-id-4 div.sk-container {/* jupyter's `normalize.less` sets `[hidden] { display: none; }` but bootstrap.min.css set `[hidden] { display: none !important; }` so we also need the `!important` here to be able to override the default hidden behavior on the sphinx rendered scikit-learn.org. See: https://github.com/scikit-learn/scikit-learn/issues/21755 */display: inline-block !important;position: relative;}#sk-container-id-4 div.sk-text-repr-fallback {display: none;}</style><div id=\"sk-container-id-4\" class=\"sk-top-container\"><div class=\"sk-text-repr-fallback\"><pre>MLPRegressor(hidden_layer_sizes=(100, 100, 100), max_iter=500)</pre><b>In a Jupyter environment, please rerun this cell to show the HTML representation or trust the notebook. <br />On GitHub, the HTML representation is unable to render, please try loading this page with nbviewer.org.</b></div><div class=\"sk-container\" hidden><div class=\"sk-item\"><div class=\"sk-estimator sk-toggleable\"><input class=\"sk-toggleable__control sk-hidden--visually\" id=\"sk-estimator-id-4\" type=\"checkbox\" checked><label for=\"sk-estimator-id-4\" class=\"sk-toggleable__label sk-toggleable__label-arrow\">MLPRegressor</label><div class=\"sk-toggleable__content\"><pre>MLPRegressor(hidden_layer_sizes=(100, 100, 100), max_iter=500)</pre></div></div></div></div></div>"
            ]
          },
          "metadata": {},
          "execution_count": 14
        }
      ],
      "source": [
        "# Test using three hidden layers with 100 nodes each\n",
        "mlp3 = MLPRegressor(hidden_layer_sizes=(100,100,100), activation='relu', solver='adam', max_iter=500, random_state=None)\n",
        "mlp3.fit(X_train, y_train)\n"
      ]
    },
    {
      "cell_type": "markdown",
      "id": "c466dd60",
      "metadata": {
        "id": "c466dd60"
      },
      "source": [
        "## Part 5: Implement MLP using TensorFlow (7 marks)"
      ]
    },
    {
      "cell_type": "code",
      "execution_count": null,
      "id": "00362479",
      "metadata": {
        "id": "00362479"
      },
      "outputs": [],
      "source": [
        "import tensorflow as tf\n",
        "\n",
        "from tensorflow import keras\n",
        "from tensorflow.keras import layers\n",
        "from tensorflow.keras.layers.experimental import preprocessing"
      ]
    },
    {
      "cell_type": "markdown",
      "id": "5f525ba9",
      "metadata": {
        "id": "5f525ba9"
      },
      "source": [
        "Instead of scaling the data using a scikit-learn scaler, you can scale the data using a normalization layer."
      ]
    },
    {
      "cell_type": "code",
      "execution_count": null,
      "id": "6e61cbff",
      "metadata": {
        "id": "6e61cbff"
      },
      "outputs": [],
      "source": [
        "# Define normalization layer\n",
        "normalizer = preprocessing.Normalization()\n",
        "normalizer.adapt(X_train)"
      ]
    },
    {
      "cell_type": "markdown",
      "source": [
        "A normalization layer normalizes the input data so that the mean and standard deviation are close to 0 and 1, respectively. This can help to increase neural network performance by making the optimisation process more reliable and efficient. "
      ],
      "metadata": {
        "id": "Y8byPwXQ7fy8"
      },
      "id": "Y8byPwXQ7fy8"
    },
    {
      "cell_type": "markdown",
      "source": [],
      "metadata": {
        "id": "G3eBXKn_7aaS"
      },
      "id": "G3eBXKn_7aaS"
    },
    {
      "cell_type": "markdown",
      "id": "8f156626",
      "metadata": {
        "id": "8f156626"
      },
      "source": [
        "Using `keras.Sequential`, implement an MLP with the same hidden layer setups as above:"
      ]
    },
    {
      "cell_type": "code",
      "execution_count": null,
      "id": "c85ee327",
      "metadata": {
        "id": "c85ee327"
      },
      "outputs": [],
      "source": [
        "# One hidden layer with 100 nodes and the relu activation function\n",
        "# Compile the model with loss='mean_absolute_error' and optimizer=tf.keras.optimizers.Adam(0.001)\n",
        "# Fit the model using validation_split=0.2, verbose=0 and epochs=100\n",
        "\n",
        "\n",
        "modeltf1= tf.keras.Sequential([\n",
        "    normalizer,\n",
        "    tf.keras.layers.Dense(100, activation='relu'),\n",
        "    tf.keras.layers.Dense(1, activation='linear')\n",
        "])\n",
        "\n",
        "optim=tf.keras.optimizers.Adam(0.001)\n",
        "\n",
        "modeltf1.compile(optimizer=optim,loss='mean_absolute_error')\n",
        "\n",
        "history=modeltf1.fit(X_train, y_train,validation_split=0.2, epochs=100,verbose=0)\n",
        "\n",
        "\n"
      ]
    },
    {
      "cell_type": "code",
      "execution_count": null,
      "id": "ecb3d7fa",
      "metadata": {
        "id": "ecb3d7fa"
      },
      "outputs": [],
      "source": [
        "# Repeat with two hidden layers with 100 nodes each and the relu activation function\n",
        "\n",
        "\n",
        "modeltf2 = tf.keras.Sequential([\n",
        "    normalizer,\n",
        "    tf.keras.layers.Dense(100, activation='relu'),\n",
        "    tf.keras.layers.Dense(100, activation='relu'),\n",
        "    tf.keras.layers.Dense(1, activation='linear')\n",
        "])\n",
        "\n",
        "optim=tf.keras.optimizers.Adam(0.001)\n",
        "\n",
        "modeltf2.compile(optimizer=optim,loss='mean_absolute_error')\n",
        "\n",
        "history=modeltf2.fit(X_train, y_train,validation_split=0.2, epochs=100,verbose=0)\n",
        "\n",
        "\n"
      ]
    },
    {
      "cell_type": "code",
      "execution_count": null,
      "id": "3713a9fe",
      "metadata": {
        "id": "3713a9fe"
      },
      "outputs": [],
      "source": [
        "# Repeat with three hidden layers with 100 nodes each and the relu activation function\n",
        "\n",
        "modeltf3 = tf.keras.Sequential([\n",
        "    normalizer,\n",
        "    tf.keras.layers.Dense(100, activation='relu'),\n",
        "    tf.keras.layers.Dense(100, activation='relu'),\n",
        "    tf.keras.layers.Dense(100, activation='relu'),\n",
        "    tf.keras.layers.Dense(1, activation='linear')\n",
        "])\n",
        "\n",
        "optim=tf.keras.optimizers.Adam(0.001)\n",
        "\n",
        "modeltf3.compile(optimizer=optim,loss='mean_absolute_error')\n",
        "\n",
        "history=modeltf3.fit(X_train, y_train,validation_split=0.2, epochs=100,verbose=0)\n"
      ]
    },
    {
      "cell_type": "markdown",
      "id": "19fc1f12",
      "metadata": {
        "id": "19fc1f12"
      },
      "source": [
        "## Part 6: Compare the accuracy of both methods (7 marks)"
      ]
    },
    {
      "cell_type": "markdown",
      "id": "8d7700c5",
      "metadata": {
        "id": "8d7700c5"
      },
      "source": [
        "For this part, calculate the mean absolute error for each model and print in a table using pandas"
      ]
    },
    {
      "cell_type": "code",
      "execution_count": null,
      "id": "a270fc6e",
      "metadata": {
        "colab": {
          "base_uri": "https://localhost:8080/"
        },
        "id": "a270fc6e",
        "outputId": "f5698a3d-ed5a-4ddf-ea1b-6714582eef2b"
      },
      "outputs": [
        {
          "output_type": "stream",
          "name": "stdout",
          "text": [
            "mean_absolute_error 1.8501426908292982\n",
            "mean_absolute_error 1.5010294029910742\n",
            "mean_absolute_error 0.7818889824561874\n"
          ]
        }
      ],
      "source": [
        "# Calculate the MAE for the three scikit-learn tests\n",
        "\n",
        "\n",
        "y_pred = mlp1.predict(X_test)\n",
        "\n",
        "mae = mean_absolute_error(y_test, y_pred)\n",
        "print(\"mean_absolute_error\",mae)\n",
        "\n",
        "y_pred = mlp2.predict(X_test)\n",
        "\n",
        "mae = mean_absolute_error(y_test, y_pred)\n",
        "print(\"mean_absolute_error\",mae)\n",
        "\n",
        "y_pred = mlp3.predict(X_test)\n",
        "\n",
        "mae = mean_absolute_error(y_test, y_pred)\n",
        "print(\"mean_absolute_error\",mae)\n"
      ]
    },
    {
      "cell_type": "code",
      "execution_count": null,
      "id": "6d0a9c86",
      "metadata": {
        "colab": {
          "base_uri": "https://localhost:8080/"
        },
        "id": "6d0a9c86",
        "outputId": "1009e755-353e-4f17-80a9-dd5306ba1161"
      },
      "outputs": [
        {
          "output_type": "stream",
          "name": "stdout",
          "text": [
            "mean_absolute_error 1.9021259546279907\n",
            "mean_absolute_error 1.887394666671753\n",
            "mean_absolute_error 1.7154834270477295\n"
          ]
        }
      ],
      "source": [
        "# Calculate the MAE for the three tensor flow tests\n",
        "\n",
        "mae = modeltf1.evaluate(X_test, y_test, verbose=0)\n",
        "print(\"mean_absolute_error\",mae)\n",
        "\n",
        "mae = modeltf2.evaluate(X_test, y_test, verbose=0)\n",
        "print(\"mean_absolute_error\",mae)\n",
        "\n",
        "mae = modeltf3.evaluate(X_test, y_test, verbose=0)\n",
        "print(\"mean_absolute_error\",mae)"
      ]
    },
    {
      "cell_type": "code",
      "execution_count": null,
      "id": "83c978ef",
      "metadata": {
        "colab": {
          "base_uri": "https://localhost:8080/"
        },
        "id": "83c978ef",
        "outputId": "2e5d1f91-84ea-4a28-8213-354100fe5ec5"
      },
      "outputs": [
        {
          "output_type": "stream",
          "name": "stdout",
          "text": [
            "              Model  Model1  Model2  Model3\n",
            "0  MAE_scikit-learn  1.8501  1.5010  0.7818\n",
            "1   MAE_tensor-flow  1.9021  1.8873  1.7154\n"
          ]
        }
      ],
      "source": [
        "# Print the results\n",
        "\n",
        "results = {\n",
        "    'Model': ['MAE_scikit-learn', 'MAE_tensor-flow'],\n",
        "    'Model1': [1.8501, 1.9021],\n",
        "    'Model2': [1.5010,1.8873],\n",
        "    'Model3': [0.7818, 1.7154],\n",
        "    \n",
        "}\n",
        "\n",
        "res = pd.DataFrame(results)\n",
        "\n",
        "\n",
        "print(res)"
      ]
    },
    {
      "cell_type": "markdown",
      "id": "71558bca",
      "metadata": {
        "id": "71558bca"
      },
      "source": [
        "## Part 7: Questions (5 marks total)"
      ]
    },
    {
      "cell_type": "markdown",
      "id": "5fbd3194",
      "metadata": {
        "id": "5fbd3194"
      },
      "source": [
        "### Question 1: Which model produced the least amount of error? (1 mark)\n",
        "\n",
        "*ANSWER HERE*"
      ]
    },
    {
      "cell_type": "markdown",
      "source": [
        "When we implemeneted the MLP using scikit-learn with three hidden layers with 100 nodes each and the relu activation function  then we got least mean_absolute_error \n",
        "\n",
        "              Model  Model1  Model2  Model3\n",
        "0  MAE_scikit-learn  1.8501  1.5010  0.7818\n",
        "1   MAE_tensor-flow  1.9021  1.8873  1.7154"
      ],
      "metadata": {
        "id": "Jt-3ZdlNCfUq"
      },
      "id": "Jt-3ZdlNCfUq"
    },
    {
      "cell_type": "markdown",
      "id": "c883ecd7",
      "metadata": {
        "id": "c883ecd7"
      },
      "source": [
        "### Question 2: Why are the numbers different between the scikit-learn and TensorFlow methods when we used the same number of hidden layers and hidden units per layer? (2 marks)\n",
        "\n",
        "*ANSWER HERE*"
      ]
    },
    {
      "cell_type": "markdown",
      "source": [
        "Eventhough we are using the same number of hidden layers and neurons per layers there are few reasons behind diffenent MAE'S\n",
        "\n",
        "Both scikit-learn and tensorflow libraries  uses different algorithms and optimization techniques\n",
        "\n",
        "Hyperparameter tuning also places a major role ex:learning rate,regularoization strength etc can have a significant effect on model's performace .we have to ensure both the libraries have same hyperparameter settings\n",
        "\n",
        "\n",
        "Preprocessing steps also effects the MAE'S \n",
        "ex: if the data is scaled differently in scikit-learn and TensorFlow, this can lead to different results"
      ],
      "metadata": {
        "id": "xFiLThbwDe3Q"
      },
      "id": "xFiLThbwDe3Q"
    },
    {
      "cell_type": "markdown",
      "id": "85be7c97",
      "metadata": {
        "id": "85be7c97"
      },
      "source": [
        "### Question 3: Reflection (2 marks)\n",
        "Include a sentence or two about:\n",
        "- what you liked or disliked,\n",
        "- found interesting, confusing, challenging, motivating\n",
        "while working on this assignment.\n",
        "\n",
        "*ANSWER HERE*"
      ]
    },
    {
      "cell_type": "markdown",
      "source": [
        "This assignment gives you a basic picture on how  to implement  MLP using scikit-learn and tensorflow\n",
        "\n",
        "computing and comparing the MAE for each model by changing the hidden layers and nodes gives you a picture of \n",
        "how the model performance effects with the change in layers and nodes in MLP\n",
        "\n",
        "Felt bit challenging while learning the hyperparameter settings for tensorflow models\n",
        "\n",
        "I think it would be more helpful if we have more lectures,notes and examples on implementation of MLP using  scikit-learn and tensor flow and some more lectures on in-depth concepts of these libraries..\n"
      ],
      "metadata": {
        "id": "RpgWUHXKHnv-"
      },
      "id": "RpgWUHXKHnv-"
    }
  ],
  "metadata": {
    "kernelspec": {
      "display_name": "Python 3 (ipykernel)",
      "language": "python",
      "name": "python3"
    },
    "language_info": {
      "codemirror_mode": {
        "name": "ipython",
        "version": 3
      },
      "file_extension": ".py",
      "mimetype": "text/x-python",
      "name": "python",
      "nbconvert_exporter": "python",
      "pygments_lexer": "ipython3",
      "version": "3.9.13"
    },
    "colab": {
      "provenance": [],
      "include_colab_link": true
    }
  },
  "nbformat": 4,
  "nbformat_minor": 5
}